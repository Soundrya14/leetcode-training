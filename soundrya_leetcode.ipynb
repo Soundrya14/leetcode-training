{
  "nbformat": 4,
  "nbformat_minor": 0,
  "metadata": {
    "colab": {
      "provenance": []
    },
    "kernelspec": {
      "name": "python3",
      "display_name": "Python 3"
    },
    "language_info": {
      "name": "python"
    }
  },
  "cells": [
    {
      "cell_type": "markdown",
      "source": [
        "1"
      ],
      "metadata": {
        "id": "BeZJSxCjx86V"
      }
    },
    {
      "cell_type": "code",
      "execution_count": 24,
      "metadata": {
        "colab": {
          "base_uri": "https://localhost:8080/"
        },
        "id": "X2p0wyFc3dbc",
        "outputId": "a8fbebcb-4ef4-40f5-ef43-7cd80e5ea48c"
      },
      "outputs": [
        {
          "output_type": "stream",
          "name": "stdout",
          "text": [
            "Enter a matrix as list of lists : [[1,2],[3,4]]\n",
            "[3, 1]\n",
            "[4, 2]\n"
          ]
        }
      ],
      "source": [
        "def rotate(matrix):\n",
        "    n = len(matrix)\n",
        "    for i in range(n):\n",
        "        for j in range(i + 1, n):\n",
        "            matrix[i][j], matrix[j][i] = matrix[j][i], matrix[i][j]\n",
        "    for row in matrix:\n",
        "        row.reverse()\n",
        "    return matrix\n",
        "matrix = eval(input(\"Enter a matrix as list of lists : \"))\n",
        "rotated = rotate(matrix)\n",
        "for row in rotated:\n",
        "    print(row)"
      ]
    },
    {
      "cell_type": "markdown",
      "source": [
        "2"
      ],
      "metadata": {
        "id": "TdOg7UGhx_CY"
      }
    },
    {
      "cell_type": "markdown",
      "source": [],
      "metadata": {
        "id": "Wy3yoBCayAj2"
      }
    },
    {
      "cell_type": "code",
      "source": [
        "\n",
        "    def spiralOrder( matrix):\n",
        "        result = []\n",
        "        if not matrix:\n",
        "            return result\n",
        "\n",
        "        top, bottom = 0, len(matrix) - 1\n",
        "        left, right = 0, len(matrix[0]) - 1\n",
        "\n",
        "        while top <= bottom and left <= right:\n",
        "            for col in range(left, right + 1):\n",
        "                result.append(matrix[top][col])\n",
        "            top += 1\n",
        "            for row in range(top, bottom + 1):\n",
        "                result.append(matrix[row][right])\n",
        "            right -= 1\n",
        "            if top <= bottom:\n",
        "                for col in range(right, left - 1, -1):\n",
        "                    result.append(matrix[bottom][col])\n",
        "                bottom -= 1\n",
        "            if left <= right:\n",
        "                for row in range(bottom, top - 1, -1):\n",
        "                    result.append(matrix[row][left])\n",
        "                left += 1\n",
        "\n",
        "        return(result)\n",
        "\n",
        "matrix=eval(input(\"enter a matrix:\"))\n",
        "result=spiralOrder(matrix)\n",
        "print(result)\n",
        ""
      ],
      "metadata": {
        "colab": {
          "base_uri": "https://localhost:8080/"
        },
        "id": "RfKT6ZTI9v8M",
        "outputId": "b39245bd-a361-4cf6-9c60-e4db6b742900"
      },
      "execution_count": 39,
      "outputs": [
        {
          "output_type": "stream",
          "name": "stdout",
          "text": [
            "enter a matrix:[ [2,3],[1,2] ]\n",
            "[2, 3, 2, 1]\n"
          ]
        }
      ]
    },
    {
      "cell_type": "markdown",
      "source": [
        "3"
      ],
      "metadata": {
        "id": "iLyHJIeqyCU9"
      }
    },
    {
      "cell_type": "code",
      "source": [
        "\n",
        "    def search( nums, target):\n",
        "        left, right = 0, len(nums) - 1\n",
        "\n",
        "        while left <= right:\n",
        "            mid = (left + right) // 2\n",
        "\n",
        "            # Found target\n",
        "            if nums[mid] == target:\n",
        "                return mid\n",
        "\n",
        "            # Left half is sorted\n",
        "            if nums[left] <= nums[mid]:\n",
        "                if nums[left] <= target < nums[mid]:\n",
        "                    right = mid - 1\n",
        "                else:\n",
        "                    left = mid + 1\n",
        "\n",
        "            # Right half is sorted\n",
        "            else:\n",
        "                if nums[mid] < target <= nums[right]:\n",
        "                    left = mid + 1\n",
        "                else:\n",
        "                    right = mid - 1\n",
        "\n",
        "        return -1\n",
        "    nums=eval(input(\"enter nos\"))\n",
        "    target=int(input(\"enter target\"))\n",
        "    result=search(nums,target)\n",
        "    print(result)"
      ],
      "metadata": {
        "colab": {
          "base_uri": "https://localhost:8080/"
        },
        "id": "aTZ5m6riA57L",
        "outputId": "7b441eea-bef6-4fe0-9cf0-30fc8382a44f"
      },
      "execution_count": 42,
      "outputs": [
        {
          "output_type": "stream",
          "name": "stdout",
          "text": [
            "enter nos[4,5,1,2,3]\n",
            "enter target9\n",
            "-1\n"
          ]
        }
      ]
    },
    {
      "cell_type": "markdown",
      "source": [
        " 4"
      ],
      "metadata": {
        "id": "gjRg1N_VyDx6"
      }
    },
    {
      "cell_type": "code",
      "source": [
        "\n",
        "    def findMin(nums):\n",
        "        left, right = 0, len(nums) - 1\n",
        "\n",
        "        while left < right:\n",
        "            mid = (left + right) // 2\n",
        "\n",
        "\n",
        "            if nums[mid] > nums[right]:\n",
        "                left = mid + 1\n",
        "            else:\n",
        "                right = mid\n",
        "        return nums[left]\n",
        "    nums=eval(input(\"enter nos\"))\n",
        "    result=findMin(nums)\n",
        "    print(result)"
      ],
      "metadata": {
        "colab": {
          "base_uri": "https://localhost:8080/"
        },
        "id": "iv8qVr-2LLNf",
        "outputId": "c360b75d-4c10-4a86-9bcd-e1d834482471"
      },
      "execution_count": 45,
      "outputs": [
        {
          "output_type": "stream",
          "name": "stdout",
          "text": [
            "enter nos[1,2,3,4,5]\n",
            "1\n"
          ]
        }
      ]
    },
    {
      "cell_type": "markdown",
      "source": [],
      "metadata": {
        "id": "lJImxl-nL5T9"
      }
    },
    {
      "cell_type": "markdown",
      "source": [
        "5"
      ],
      "metadata": {
        "id": "r3VgwAU7yH7B"
      }
    },
    {
      "cell_type": "code",
      "source": [
        "\n",
        "    def characterReplacement( s: str, k: int) -> int:\n",
        "        count = {}\n",
        "        left = 0\n",
        "        max_freq = 0\n",
        "        result = 0\n",
        "\n",
        "        for right in range(len(s)):\n",
        "            # Count the current character\n",
        "            count[s[right]] = count.get(s[right], 0) + 1\n",
        "\n",
        "            # Track the max frequency character in the window\n",
        "            max_freq = max(max_freq, count[s[right]])\n",
        "\n",
        "            # Check if window is invalid (needs > k replacements)\n",
        "            if (right - left + 1) - max_freq > k:\n",
        "                # Shrink from left\n",
        "                count[s[left]] -= 1\n",
        "                left += 1\n",
        "\n",
        "            # Update result with valid window size\n",
        "            result = max(result, right - left + 1)\n",
        "\n",
        "        return result\n",
        "\n",
        "    str=input(\"enter a string:\")\n",
        "    k=int(input(\"enter k:\"))\n",
        "    result=characterReplacement(str,k)\n",
        "    print(result)"
      ],
      "metadata": {
        "colab": {
          "base_uri": "https://localhost:8080/"
        },
        "id": "bRpHk0H2MCs-",
        "outputId": "7f102c2b-992e-4f78-eed0-0fce174f2957"
      },
      "execution_count": 2,
      "outputs": [
        {
          "output_type": "stream",
          "name": "stdout",
          "text": [
            "enter a string:asdfghjkl\n",
            "enter k:1\n",
            "2\n"
          ]
        }
      ]
    },
    {
      "cell_type": "markdown",
      "source": [
        "6"
      ],
      "metadata": {
        "id": "CqsxADM0yJ6e"
      }
    },
    {
      "cell_type": "code",
      "source": [
        "from collections import deque\n",
        "\n",
        "def maxSlidingWindow(nums: list[int], k: int) -> list[int]:\n",
        "    dq = deque()  # stores indices, not values\n",
        "    result = []\n",
        "\n",
        "    for i in range(len(nums)):\n",
        "        # Step 1: Remove indices outside the window\n",
        "        if dq and dq[0] == i - k:\n",
        "            dq.popleft()\n",
        "\n",
        "        # Step 2: Remove smaller values from the back\n",
        "        while dq and nums[dq[-1]] < nums[i]:\n",
        "            dq.pop()\n",
        "\n",
        "        # Step 3: Add current index\n",
        "        dq.append(i)\n",
        "\n",
        "        # Step 4: Add max for valid window\n",
        "        if i >= k - 1:\n",
        "            result.append(nums[dq[0]])\n",
        "\n",
        "    return result\n",
        "\n",
        "# Input from user\n",
        "nums = list(map(int, input(\"Enter numbers separated by commas: \").split(',')))\n",
        "k = int(input(\"Enter window size k: \"))\n",
        "\n",
        "# Call the function\n",
        "result = maxSlidingWindow(nums, k)\n",
        "print(\"Sliding window maximums:\", result)"
      ],
      "metadata": {
        "colab": {
          "base_uri": "https://localhost:8080/"
        },
        "id": "YG5L3e1KnU7N",
        "outputId": "cc497a90-20a2-4dab-8576-75a9dfce85e9"
      },
      "execution_count": 7,
      "outputs": [
        {
          "output_type": "stream",
          "name": "stdout",
          "text": [
            "Enter numbers separated by commas: 1,2,3,4\n",
            "Enter window size k: 2\n",
            "Sliding window maximums: [2, 3, 4]\n"
          ]
        }
      ]
    },
    {
      "cell_type": "markdown",
      "source": [
        "7"
      ],
      "metadata": {
        "id": "JM5nLOZ_yK1F"
      }
    },
    {
      "cell_type": "code",
      "source": [
        "\n",
        "    def minSubArrayLen( target: int, nums: list[int]) -> int:\n",
        "        n = len(nums)\n",
        "        left = 0\n",
        "        curr_sum = 0\n",
        "        min_len = float('inf')\n",
        "\n",
        "        for right in range(n):\n",
        "            curr_sum += nums[right]\n",
        "\n",
        "            # Shrink window while sum >= target\n",
        "            while curr_sum >= target:\n",
        "                min_len = min(min_len, right - left + 1)\n",
        "                curr_sum -= nums[left]\n",
        "                left += 1\n",
        "\n",
        "        return 0 if min_len == float('inf') else min_len\n",
        "    target=int(input(\"enter target:\"))\n",
        "    nums=eval(input(\"enter nos:\"))\n",
        "    result=minSubArrayLen(target,nums)\n",
        "    print(result)\n"
      ],
      "metadata": {
        "colab": {
          "base_uri": "https://localhost:8080/",
          "height": 228
        },
        "id": "tDns_7EVs0Iu",
        "outputId": "c95da251-1745-487e-fd31-b950350d3faa"
      },
      "execution_count": 9,
      "outputs": [
        {
          "name": "stdout",
          "output_type": "stream",
          "text": [
            "enter target:[1,2,3,4]\n"
          ]
        },
        {
          "output_type": "error",
          "ename": "ValueError",
          "evalue": "invalid literal for int() with base 10: '[1,2,3,4]'",
          "traceback": [
            "\u001b[0;31m---------------------------------------------------------------------------\u001b[0m",
            "\u001b[0;31mValueError\u001b[0m                                Traceback (most recent call last)",
            "\u001b[0;32m/tmp/ipython-input-9-415096137.py\u001b[0m in \u001b[0;36m<cell line: 0>\u001b[0;34m()\u001b[0m\n\u001b[1;32m     15\u001b[0m \u001b[0;34m\u001b[0m\u001b[0m\n\u001b[1;32m     16\u001b[0m     \u001b[0;32mreturn\u001b[0m \u001b[0;36m0\u001b[0m \u001b[0;32mif\u001b[0m \u001b[0mmin_len\u001b[0m \u001b[0;34m==\u001b[0m \u001b[0mfloat\u001b[0m\u001b[0;34m(\u001b[0m\u001b[0;34m'inf'\u001b[0m\u001b[0;34m)\u001b[0m \u001b[0;32melse\u001b[0m \u001b[0mmin_len\u001b[0m\u001b[0;34m\u001b[0m\u001b[0;34m\u001b[0m\u001b[0m\n\u001b[0;32m---> 17\u001b[0;31m \u001b[0mtarget\u001b[0m\u001b[0;34m=\u001b[0m\u001b[0mint\u001b[0m\u001b[0;34m(\u001b[0m\u001b[0minput\u001b[0m\u001b[0;34m(\u001b[0m\u001b[0;34m\"enter target:\"\u001b[0m\u001b[0;34m)\u001b[0m\u001b[0;34m)\u001b[0m\u001b[0;34m\u001b[0m\u001b[0;34m\u001b[0m\u001b[0m\n\u001b[0m\u001b[1;32m     18\u001b[0m \u001b[0mnums\u001b[0m\u001b[0;34m=\u001b[0m\u001b[0meval\u001b[0m\u001b[0;34m(\u001b[0m\u001b[0minput\u001b[0m\u001b[0;34m(\u001b[0m\u001b[0;34m\"enter nos:\"\u001b[0m\u001b[0;34m)\u001b[0m\u001b[0;34m)\u001b[0m\u001b[0;34m\u001b[0m\u001b[0;34m\u001b[0m\u001b[0m\n\u001b[1;32m     19\u001b[0m \u001b[0mresult\u001b[0m\u001b[0;34m=\u001b[0m\u001b[0mminSubArrayLen\u001b[0m\u001b[0;34m(\u001b[0m\u001b[0mtarget\u001b[0m\u001b[0;34m,\u001b[0m\u001b[0mnums\u001b[0m\u001b[0;34m)\u001b[0m\u001b[0;34m\u001b[0m\u001b[0;34m\u001b[0m\u001b[0m\n",
            "\u001b[0;31mValueError\u001b[0m: invalid literal for int() with base 10: '[1,2,3,4]'"
          ]
        }
      ]
    },
    {
      "cell_type": "markdown",
      "source": [
        "8"
      ],
      "metadata": {
        "id": "_20XCCtVyL_q"
      }
    },
    {
      "cell_type": "code",
      "source": [
        "class Solution:\n",
        "    def largestRectangleArea(self, heights: list[int]) -> int:\n",
        "        stack = []\n",
        "        max_area = 0\n",
        "        heights.append(0)\n",
        "        for i, h in enumerate(heights):\n",
        "            while stack and heights[stack[-1]] > h:\n",
        "                height = heights[stack.pop()]\n",
        "                width = i if not stack else i - stack[-1] - 1\n",
        "                max_area = max(max_area, height * width)\n",
        "            stack.append(i)\n",
        "        return max_area\n",
        "heights = eval(input(\"Enter the list of bar heights : \"))\n",
        "solution = Solution()\n",
        "area = solution.largestRectangleArea(heights)\n",
        "print(\"Largest Rectangle Area:\", area)"
      ],
      "metadata": {
        "colab": {
          "base_uri": "https://localhost:8080/"
        },
        "id": "oUrzs_fyyMTp",
        "outputId": "10ef3987-b6a3-4fb7-a13b-c75afdcdac77"
      },
      "execution_count": 11,
      "outputs": [
        {
          "output_type": "stream",
          "name": "stdout",
          "text": [
            "Enter the list of bar heights : [2,1,5,6,4]\n",
            "Largest Rectangle Area: 12\n"
          ]
        }
      ]
    },
    {
      "cell_type": "markdown",
      "source": [
        "9"
      ],
      "metadata": {
        "id": "cC6eBEvz2HlR"
      }
    },
    {
      "cell_type": "code",
      "source": [],
      "metadata": {
        "id": "bNBiUeSX2J9W"
      },
      "execution_count": null,
      "outputs": []
    }
  ]
}